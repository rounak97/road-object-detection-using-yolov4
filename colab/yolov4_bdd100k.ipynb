{
  "nbformat": 4,
  "nbformat_minor": 0,
  "metadata": {
    "colab": {
      "name": "yolov4_bdd100k.ipynb",
      "provenance": [],
      "collapsed_sections": [],
      "toc_visible": true
    },
    "kernelspec": {
      "name": "python3",
      "display_name": "Python 3"
    },
    "accelerator": "GPU"
  },
  "cells": [
    {
      "cell_type": "markdown",
      "metadata": {
        "id": "CTqTBmNwtj7F"
      },
      "source": [
        "# YOLOv4 on Berley DeepDrive Dataset"
      ]
    },
    {
      "cell_type": "markdown",
      "metadata": {
        "id": "M0JmGLOfXWw6"
      },
      "source": [
        "The goal of this colab notebook is to train and test YOLOv4 network on BerkleyDeep Drive Dataset.\n",
        "\n",
        "The code below was adapted from the following repositories:\n",
        "1. Darknet [[Link](https://github.com/AlexeyAB/darknet)]\n",
        "2. Road Object Detection using YOLOv4 [[Link](https://github.com/sourabbapusridhar/road-object-detection-using-yolov4.git)]"
      ]
    },
    {
      "cell_type": "markdown",
      "metadata": {
        "id": "IWAq4VirXU1I"
      },
      "source": [
        "## Instructions to run Google Colab\n",
        "\n",
        "1. Connect Runtime to GPU for better/faster results [RunTime -> Change RunTime Type -> GPU]\n",
        "2. Download the Berkley DeepDrive dataset and the annotations after creating an account and accepting the terms to use the dataset.\n",
        "3. Upload the Berkley DeepDrive dataset and the annotations to the Google Drive account connected to this Google Colab Notebook."
      ]
    },
    {
      "cell_type": "markdown",
      "metadata": {
        "id": "8J_J8d3dXpZS"
      },
      "source": [
        "## 0. Prerequisites"
      ]
    },
    {
      "cell_type": "code",
      "metadata": {
        "id": "z2v0EzWPXqAM"
      },
      "source": [
        "# Check whether GPU is provided\n",
        "!nvidia-smi\n",
        "!nvcc --version"
      ],
      "execution_count": null,
      "outputs": []
    },
    {
      "cell_type": "code",
      "metadata": {
        "id": "Wqxpn0aaXrCH"
      },
      "source": [
        "# Mount your Google Drive\n",
        "from google.colab import drive\n",
        "drive.mount('/content/drive')"
      ],
      "execution_count": null,
      "outputs": []
    },
    {
      "cell_type": "code",
      "metadata": {
        "id": "T7jK_kOIXsV_"
      },
      "source": [
        "# Check Python Version and import os to evaluate current directories\n",
        "!python --version\n",
        "import os"
      ],
      "execution_count": null,
      "outputs": []
    },
    {
      "cell_type": "markdown",
      "metadata": {
        "id": "cNqujR3KYYOB"
      },
      "source": [
        "## 1. Retrain YOLOv4 on Berkley DeepDrive Dataset"
      ]
    },
    {
      "cell_type": "markdown",
      "metadata": {
        "id": "wGWDp1PJXu5G"
      },
      "source": [
        "### 1.1. Clone the required repositories"
      ]
    },
    {
      "cell_type": "code",
      "metadata": {
        "id": "d0W7T6nrXyS6"
      },
      "source": [
        "# Sanity Check: Check Current Directory\n",
        "assert os.getcwd()=='/content', 'Directory should be \"/content\" instead of \"{}\"'.format(os.getcwd())\n",
        "\n",
        "# Clone the required repositories\n",
        "!git clone https://github.com/AlexeyAB/darknet.git    # Official YOLOv4 Implementation\n",
        "!git clone https://github.com/sourabbapusridhar/road-object-detection-using-yolov4.git      # Road Object Detection Using YoloV4 repository"
      ],
      "execution_count": null,
      "outputs": []
    },
    {
      "cell_type": "markdown",
      "metadata": {
        "id": "wruauA3b9fOi"
      },
      "source": [
        "### 1.2. Update Makefile based on requirements"
      ]
    },
    {
      "cell_type": "code",
      "metadata": {
        "id": "RGB7pZba9efM"
      },
      "source": [
        "# Sanity Check: Check Current Directory\n",
        "assert os.getcwd()=='/content', 'Directory should be \"/content\" instead of \"{}\"'.format(os.getcwd())\n",
        "\n",
        "# Update the makefile to have GPU and OPENCV enabled\n",
        "%cd darknet\n",
        "!sed -i 's/OPENCV=0/OPENCV=1/' Makefile\n",
        "!sed -i 's/GPU=0/GPU=1/' Makefile\n",
        "!sed -i 's/CUDNN=0/CUDNN=1/' Makefile\n",
        "!sed -i 's/CUDNN_HALF=0/CUDNN_HALF=1/' Makefile"
      ],
      "execution_count": null,
      "outputs": []
    },
    {
      "cell_type": "markdown",
      "metadata": {
        "id": "ugphXuxVLF78"
      },
      "source": [
        "### 1.3. Build Darknet"
      ]
    },
    {
      "cell_type": "code",
      "metadata": {
        "id": "ThhWx8taLTCF"
      },
      "source": [
        "# Sanity Check: Check Current Directory\n",
        "assert os.getcwd()=='/content/darknet', 'Directory should be \"/content/darknet\" instead of \"{}\"'.format(os.getcwd())\n",
        "\n",
        "# Build Darknet\n",
        "!make"
      ],
      "execution_count": null,
      "outputs": []
    },
    {
      "cell_type": "markdown",
      "metadata": {
        "id": "HiUzW4oJM7au"
      },
      "source": [
        "### 1.4. Download Pre-trained weights file"
      ]
    },
    {
      "cell_type": "code",
      "metadata": {
        "id": "HxR8Km2INPA2"
      },
      "source": [
        "# Sanity Check: Check Current Directory\n",
        "assert os.getcwd()=='/content/darknet', 'Directory should be \"/content/darknet\" instead of \"{}\"'.format(os.getcwd())\n",
        "\n",
        "# Download the pretrained weights file\n",
        "!wget https://github.com/AlexeyAB/darknet/releases/download/darknet_yolo_v3_optimal/yolov4.conv.137     # For training cfg/yolov4-custom.cfg\n",
        "!wget https://github.com/AlexeyAB/darknet/releases/download/darknet_yolo_v4_pre/yolov4-tiny.conv.29     # For training cfg/yolov4-tiny-custom.cfg\n",
        "\n",
        "# Change Directory\n",
        "%cd .."
      ],
      "execution_count": null,
      "outputs": []
    },
    {
      "cell_type": "markdown",
      "metadata": {
        "id": "I6FUxbBLNxLU"
      },
      "source": [
        "### 1.5. Setup the Berkley DeepDrive Dataset"
      ]
    },
    {
      "cell_type": "markdown",
      "metadata": {
        "id": "F2LGXhfpOD8N"
      },
      "source": [
        "**Important:** Please fulfill the following conditions to use the Berkley DeepDrive Dataset:\n",
        "1. Register an account on the Berkley DeepDrive Website [[Link](https://bdd-data.berkeley.edu/login.html)]\n",
        "2. Accept the terms to use the dataset \n",
        "3. Download the Images and the Labels and upload the zip folders into the Google Drive connected to this Colab Notebook."
      ]
    },
    {
      "cell_type": "code",
      "metadata": {
        "id": "sCpGLd79QJI0"
      },
      "source": [
        "# Sanity Check: Check Current Directory\n",
        "assert os.getcwd()=='/content', 'Directory should be \"/content\" instead of \"{}\"'.format(os.getcwd())\n",
        "\n",
        "# Sanity Check: Check if the Berkley DeepDrive Dataset and the annotations exists in the Google Drive connected to this Google Colab Network\n",
        "assert os.path.exists('./drive/MyDrive/bdd100k_images.zip'), 'Berkley DeepDrive Dataset does not exist! Please follow the instructions from the cell above!'\n",
        "assert os.path.exists('./drive/MyDrive/bdd100k_labels_release.zip'), 'Berkley DeepDrive Annotations does not exist! Please follow the instructions from the cell above!'\n",
        "\n",
        "# Copy the Dataset and the Annotations\n",
        "!cp -rvi ./drive/MyDrive/bdd100k_images.zip ./darknet/data/\n",
        "!cp -rvi ./drive/MyDrive/bdd100k_labels_release.zip ./darknet/data/\n",
        "\n",
        "# Change Current Directory\n",
        "%cd darknet\n",
        "\n",
        "# Unzip the Dataset and the Annotations in the data folder\n",
        "!unzip ./data/bdd100k_images.zip -d ./data/\n",
        "!unzip ./data/bdd100k_labels_release.zip -d ./data/\n",
        "\n",
        "# Delete unwanted files\n",
        "!rm -rf ./data/bdd100k_images.zip\n",
        "!rm -rf ./data/bdd100k_labels_release.zip\n",
        "!rm -rf ./data/bdd100k/images/10k/\n",
        "\n",
        "# Check Contents of the Current Directory\n",
        "print(\"\\nThe contents of the {} directory are:\".format(os.getcwd()))\n",
        "!ls\n",
        "\n",
        "# Count the number of training, validation and test images\n",
        "print(\"Number of training images: {}\".format(len(os.listdir('./data/bdd100k/images/100k/train/'))))\n",
        "print(\"Number of validation images: {}\".format(len(os.listdir('./data/bdd100k/images/100k/val/'))))\n",
        "print(\"Number of testing images: {}\".format(len(os.listdir('./data/bdd100k/images/100k/test/'))))"
      ],
      "execution_count": null,
      "outputs": []
    },
    {
      "cell_type": "code",
      "metadata": {
        "id": "4do0ChdORipj"
      },
      "source": [
        "# Sanity Check: Check Current Directory\n",
        "assert os.getcwd()=='/content/darknet', 'Directory should be \"/content/darknet\" instead of \"{}\"'.format(os.getcwd())\n",
        "\n",
        "# Copy bdd100k.names files\n",
        "!cp -vi ../road-object-detection-using-yolov4/data/* ./data/bdd100k/"
      ],
      "execution_count": null,
      "outputs": []
    },
    {
      "cell_type": "code",
      "metadata": {
        "id": "2erxIHAvsp-s"
      },
      "source": [
        "# Sanity Check: Check Current Directory\n",
        "assert os.getcwd()=='/content/darknet', 'Directory should be \"/content/darknet\" instead of \"{}\"'.format(os.getcwd())\n",
        "\n",
        "# Convert Labels from JSON files to text files\n",
        "!python ../road-object-detection-using-yolov4/utils/convert_labels.py -ij ./data/bdd100k/labels/bdd100k_labels_images_train.json -in ./data/bdd100k/bdd100k.names -o ./data/bdd100k/images/100k/train/\n",
        "!python ../road-object-detection-using-yolov4/utils/convert_labels.py -ij ./data/bdd100k/labels/bdd100k_labels_images_val.json -in ./data/bdd100k/bdd100k.names -o ./data/bdd100k/images/100k/val/\n",
        "\n",
        "# Remove data without annotatations\n",
        "!python ../road-object-detection-using-yolov4/utils/data_cleanup.py -i ./data/bdd100k/images/100k/train/\n",
        "!python ../road-object-detection-using-yolov4/utils/data_cleanup.py -i ./data/bdd100k/images/100k/val/\n",
        "\n",
        "# Generate Paths to Training and Test Images\n",
        "!python ../road-object-detection-using-yolov4/utils/generate_paths.py -it data/bdd100k/images/100k/train/ -iv data/bdd100k/images/100k/val/ -o ./data/bdd100k/\n",
        "\n",
        "# Generate data file containing relative paths to the training, validation and backup folders for YOLOv4\n",
        "!python ../road-object-detection-using-yolov4/utils/generate_data_file.py -c 10 -t data/bdd100k/bdd100k_train.txt -v data/bdd100k/bdd100k_val.txt -n data/bdd100k/bdd100k.names -b backup/ -o ./data/bdd100k/"
      ],
      "execution_count": null,
      "outputs": []
    },
    {
      "cell_type": "code",
      "metadata": {
        "id": "d7VivxnqdxhS"
      },
      "source": [
        "# Sanity Check: Check Current Directory\n",
        "assert os.getcwd()=='/content/darknet', 'Directory should be \"/content/darknet\" instead of \"{}\"'.format(os.getcwd())\n",
        "\n",
        "# Copy pre-defined YOLOv4 network config file to cfg folder\n",
        "!cp -vi ../road-object-detection-using-yolov4/config/* ./cfg/"
      ],
      "execution_count": null,
      "outputs": []
    },
    {
      "cell_type": "markdown",
      "metadata": {
        "id": "84BtFmV7mua0"
      },
      "source": [
        "### 1.6. Visualize Samples from Berkley DeepDrive Dataset"
      ]
    },
    {
      "cell_type": "code",
      "metadata": {
        "id": "gFNepYNJm3IH"
      },
      "source": [
        "# Sanity Check: Check Current Directory\n",
        "assert os.getcwd()=='/content/darknet', 'Directory should be \"/content/darknet\" instead of \"{}\"'.format(os.getcwd())\n",
        "\n",
        "# Import required libraries\n",
        "import glob\n",
        "import matplotlib.pyplot as plt\n",
        "\n",
        "def read_annotations(imagePath):\n",
        "  annotationsPath = imagePath.replace('.jpg', '.txt')\n",
        "  with open(annotationsPath, 'rt') as annotationsFile:\n",
        "    print(os.path.basename(annotationsPath) + ': \\n\\n' + annotationsFile.read())\n",
        "\n",
        "imagePath = glob.glob(\"./data/bdd100k/images/100k/train/*.jpg\")\n",
        "numberOfSamples = 2       # Can be changed based on requirements\n",
        "\n",
        "for sampleIterator in range(numberOfSamples):\n",
        "  fig = plt.figure(figsize=(20,20))\n",
        "  sampleImage = plt.imread(str(imagePath[sampleIterator]))\n",
        "  plt.axis(False)\n",
        "  plt.imshow(sampleImage)\n",
        "  read_annotations(str(imagePath[sampleIterator]))\n",
        "  plt.savefig(\"dataset_sample_{}\".format(sampleIterator), dpi=300)"
      ],
      "execution_count": null,
      "outputs": []
    },
    {
      "cell_type": "markdown",
      "metadata": {
        "id": "b5NbMC8_n_GR"
      },
      "source": [
        "### 1.7. Create Symbolic Link to Google Drive"
      ]
    },
    {
      "cell_type": "markdown",
      "metadata": {
        "id": "CdyUQJfzotKC"
      },
      "source": [
        "**Important:** This step is important to ensure that the weights are stored in our drive."
      ]
    },
    {
      "cell_type": "code",
      "metadata": {
        "id": "ThPMdU5DoENf"
      },
      "source": [
        "# Sanity Check: Check Current Directory\n",
        "assert os.getcwd()=='/content/darknet', 'Directory should be \"/content/darknet\" instead of \"{}\"'.format(os.getcwd())\n",
        "\n",
        "# Delete Backup folder\n",
        "!rm -rf ./backup\n",
        "\n",
        "# Create a New Backup Folder\n",
        "!mkdir backup\n",
        "\n",
        "# Create Symbolic links so we can save trained weights file in our Google Drive\n",
        "# Create the folder YOLOv4_weight/backup in your Drive to store trained weights\n",
        "!ln -svt /content/drive/MyDrive/YOLOv4_weight/ /content/darknet/backup/"
      ],
      "execution_count": null,
      "outputs": []
    },
    {
      "cell_type": "markdown",
      "metadata": {
        "id": "4S9i2qApoyvS"
      },
      "source": [
        "### 1.8. Train YOLOv4 on Berkley DeepDrive Dataset"
      ]
    },
    {
      "cell_type": "markdown",
      "metadata": {
        "id": "OJ8gGeA6o4YO"
      },
      "source": [
        "**Important:**\n",
        "1. If you get CUDA out of memory error, adjust the number of sub-divisions in the config file\n",
        "2. Adjust the number of max batches for shorter training time"
      ]
    },
    {
      "cell_type": "code",
      "metadata": {
        "id": "1jD4f_uDoxtr"
      },
      "source": [
        "# Sanity Check: Check Current Directory\n",
        "assert os.getcwd()=='/content/darknet', 'Directory should be \"/content/darknet\" instead of \"{}\"'.format(os.getcwd())\n",
        "\n",
        "# Train YOLOv4 on Custom Dataset (Berkley DeepDrive Dataset)\n",
        "!./darknet detector train ./data/bdd100k/bdd100k.data ./cfg/yolov4-tiny-bdd100k.cfg ./yolov4-tiny.conv.29 -dont_show -map"
      ],
      "execution_count": null,
      "outputs": []
    },
    {
      "cell_type": "markdown",
      "metadata": {
        "id": "ZxPx0Nr2pbXL"
      },
      "source": [
        "### 1.9. Visualize Training Results"
      ]
    },
    {
      "cell_type": "code",
      "metadata": {
        "id": "T1SRJh7zphdS"
      },
      "source": [
        "# Sanity Check: Check Current Directory\n",
        "assert os.getcwd()=='/content/darknet', 'Directory should be \"/content/darknet\" instead of \"{}\"'.format(os.getcwd())\n",
        "\n",
        "# Plot Training Results\n",
        "fig = plt.figure(figsize=(20,20))\n",
        "trainingResult = plt.imread(\"chart.png\")\n",
        "plt.axis(False)\n",
        "plt.imshow(trainingResult)"
      ],
      "execution_count": null,
      "outputs": []
    },
    {
      "cell_type": "markdown",
      "metadata": {
        "id": "eHqgTXz2VMEO"
      },
      "source": [
        "## Test YOLOv4 on Berkley DeepDrive Dataset"
      ]
    },
    {
      "cell_type": "markdown",
      "metadata": {
        "id": "DPMEch7CNx2E"
      },
      "source": [
        "### 2.1. Test YOLOv4 on an example image"
      ]
    },
    {
      "cell_type": "code",
      "metadata": {
        "id": "Z_-eMbnZN3K-"
      },
      "source": [
        "# Sanity Check: Check Current Directory\n",
        "assert os.getcwd()=='/content/darknet', 'Directory should be \"/content/darknet\" instead of \"{}\"'.format(os.getcwd())\n",
        "\n"
      ],
      "execution_count": null,
      "outputs": []
    },
    {
      "cell_type": "markdown",
      "metadata": {
        "id": "F9FRJaOuONpc"
      },
      "source": [
        "### 2.2. Test YOLOv4 on an example video"
      ]
    },
    {
      "cell_type": "code",
      "metadata": {
        "id": "AGaXaF6COR1p"
      },
      "source": [
        "# Sanity Check: Check Current Directory\n",
        "assert os.getcwd()=='/content/darknet', 'Directory should be \"/content/darknet\" instead of \"{}\"'.format(os.getcwd())\n",
        "\n"
      ],
      "execution_count": null,
      "outputs": []
    },
    {
      "cell_type": "markdown",
      "metadata": {
        "id": "9ESv1AjCWKxg"
      },
      "source": [
        "# TODO"
      ]
    },
    {
      "cell_type": "code",
      "metadata": {
        "id": "QSxGOaP6UVXL"
      },
      "source": [
        "assert False"
      ],
      "execution_count": null,
      "outputs": []
    },
    {
      "cell_type": "markdown",
      "metadata": {
        "id": "FVJfL6dRZppP"
      },
      "source": [
        "## Test with example image/video"
      ]
    },
    {
      "cell_type": "code",
      "metadata": {
        "id": "ISC0Lk_ua-QY"
      },
      "source": [
        "assert os.getcwd()=='/content/darknet_for_colab', 'Directory should be \"/content/darknet_for_colab\" instead of \"{}\"'.format(os.getcwd())\n",
        "\n",
        "# download example images and video\n",
        "!wget --no-check-certificate \"https://onedrive.live.com/download?cid=A86CBC7F31A1C06B&resid=A86CBC7F31A1C06B%21120&authkey=AM5VslNNW9a8aO8\" -O examples.zip\n",
        "!unzip examples.zip\n",
        "!rm -r examples.zip"
      ],
      "execution_count": null,
      "outputs": []
    },
    {
      "cell_type": "code",
      "metadata": {
        "id": "1URDPsaKVTyd"
      },
      "source": [
        "assert os.getcwd()=='/content/darknet_for_colab', 'Directory should be \"/content/darknet_for_colab\" instead of \"{}\"'.format(os.getcwd())\n",
        "\n",
        "# cfg/coco.data was harcode in darknet, thus we need \n",
        "# to duplicate one with the same content of data/yolov4.data\n",
        "%cp data/yolov4.data cfg/coco.data"
      ],
      "execution_count": null,
      "outputs": []
    },
    {
      "cell_type": "code",
      "metadata": {
        "id": "B9CiyhAg9big"
      },
      "source": [
        "assert os.getcwd()=='/content/darknet_for_colab', 'Directory should be \"/content/darknet_for_colab\" instead of \"{}\"'.format(os.getcwd())\n",
        "\n",
        "# test out our detector!\n",
        "# coco.names is hardcoded somewhere in the detector\n",
        "img_path = \"examples/test_image_4.jpg\"\n",
        "!./darknet detect cfg/yolov4_custom_test.cfg backup/yolov4_custom_train_last.weights {img_path} -dont-show"
      ],
      "execution_count": null,
      "outputs": []
    },
    {
      "cell_type": "code",
      "metadata": {
        "id": "gRKX-EmYev42"
      },
      "source": [
        "assert os.getcwd()=='/content/darknet_for_colab', 'Directory should be \"/content/darknet_for_colab\" instead of \"{}\"'.format(os.getcwd())\n",
        "\n",
        "import matplotlib.pyplot as plt \n",
        "fig = plt.figure(figsize=(12,12))\n",
        "plt.axis(False)\n",
        "processed_image = plt.imread(\"./predictions.jpg\")\n",
        "plt.imshow(processed_image)"
      ],
      "execution_count": null,
      "outputs": []
    },
    {
      "cell_type": "code",
      "metadata": {
        "id": "Kk2tyXDXkkur"
      },
      "source": [
        "assert os.getcwd()=='/content/darknet_for_colab', 'Directory should be \"/content/darknet_for_colab\" instead of \"{}\"'.format(os.getcwd())\n",
        "\n",
        "# video processed\n",
        "!python darknet_video.py -v examples/test_video.mp4 -c cfg/yolov4_custom_test.cfg -w backup/yolov4_custom_train_last.weights -o output.mp4"
      ],
      "execution_count": null,
      "outputs": []
    },
    {
      "cell_type": "markdown",
      "metadata": {
        "id": "Jt02Wu8o_vA3"
      },
      "source": [
        "## Processed video result\n",
        "\n",
        "<p align=\"center\"><img src=\"https://media.giphy.com/media/KyBfcsAm1VX2NVX9RV/giphy.gif\" width=480></p"
      ]
    }
  ]
}